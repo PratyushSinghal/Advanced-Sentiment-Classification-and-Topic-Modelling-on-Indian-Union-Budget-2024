{
  "nbformat": 4,
  "nbformat_minor": 0,
  "metadata": {
    "colab": {
      "provenance": [],
      "gpuType": "T4"
    },
    "kernelspec": {
      "name": "python3",
      "display_name": "Python 3"
    },
    "language_info": {
      "name": "python"
    },
    "accelerator": "GPU"
  },
  "cells": [
    {
      "cell_type": "code",
      "source": [
        "from google.colab import drive\n",
        "drive.mount(\"/content/gdrive\")"
      ],
      "metadata": {
        "colab": {
          "base_uri": "https://localhost:8080/"
        },
        "id": "P0sE_TXa33Pm",
        "outputId": "5232173a-f044-4736-bd98-4ad1574df150"
      },
      "execution_count": null,
      "outputs": [
        {
          "output_type": "stream",
          "name": "stdout",
          "text": [
            "Mounted at /content/gdrive\n"
          ]
        }
      ]
    },
    {
      "cell_type": "code",
      "source": [
        "pip install emoji"
      ],
      "metadata": {
        "colab": {
          "base_uri": "https://localhost:8080/"
        },
        "id": "iykiE79q4ztK",
        "outputId": "3ebb68db-fd1e-4e04-de6a-ca3875a9da2e"
      },
      "execution_count": null,
      "outputs": [
        {
          "output_type": "stream",
          "name": "stdout",
          "text": [
            "Collecting emoji\n",
            "  Downloading emoji-2.12.1-py3-none-any.whl.metadata (5.4 kB)\n",
            "Requirement already satisfied: typing-extensions>=4.7.0 in /usr/local/lib/python3.10/dist-packages (from emoji) (4.12.2)\n",
            "Downloading emoji-2.12.1-py3-none-any.whl (431 kB)\n",
            "\u001b[?25l   \u001b[90m━━━━━━━━━━━━━━━━━━━━━━━━━━━━━━━━━━━━━━━━\u001b[0m \u001b[32m0.0/431.4 kB\u001b[0m \u001b[31m?\u001b[0m eta \u001b[36m-:--:--\u001b[0m\r\u001b[2K   \u001b[90m━━━━━━━━━━━━━━━━━━━━━━━━━━━━━━━━━━━━━━━━\u001b[0m \u001b[32m431.4/431.4 kB\u001b[0m \u001b[31m25.7 MB/s\u001b[0m eta \u001b[36m0:00:00\u001b[0m\n",
            "\u001b[?25hInstalling collected packages: emoji\n",
            "Successfully installed emoji-2.12.1\n"
          ]
        }
      ]
    },
    {
      "cell_type": "code",
      "execution_count": null,
      "metadata": {
        "id": "1Es2pXgjl3o0"
      },
      "outputs": [],
      "source": [
        "import pandas as pd\n",
        "import numpy as np\n",
        "from sklearn.model_selection import train_test_split\n",
        "from sklearn.feature_extraction.text import CountVectorizer\n",
        "import re\n",
        "import nltk\n",
        "import emoji\n",
        "import string\n",
        "from nltk.stem import WordNetLemmatizer\n",
        "from nltk import pos_tag\n",
        "from sklearn.preprocessing import LabelEncoder\n",
        "from nltk.tokenize import TweetTokenizer"
      ]
    },
    {
      "cell_type": "code",
      "source": [
        "data = pd.read_csv('/content/gdrive/MyDrive/tweet_data.csv')"
      ],
      "metadata": {
        "id": "Ihe0BGv_3wB1"
      },
      "execution_count": null,
      "outputs": []
    },
    {
      "cell_type": "code",
      "source": [
        "nltk.download('punkt')\n",
        "nltk.download('averaged_perceptron_tagger')\n",
        "nltk.download('wordnet')\n",
        "nltk.download('omw-1.4')"
      ],
      "metadata": {
        "colab": {
          "base_uri": "https://localhost:8080/"
        },
        "id": "scWTiIRW4ns5",
        "outputId": "8b13ab2f-361c-4c9f-c86f-cfc3a5c17944"
      },
      "execution_count": null,
      "outputs": [
        {
          "output_type": "stream",
          "name": "stderr",
          "text": [
            "[nltk_data] Downloading package punkt to /root/nltk_data...\n",
            "[nltk_data]   Unzipping tokenizers/punkt.zip.\n",
            "[nltk_data] Downloading package averaged_perceptron_tagger to\n",
            "[nltk_data]     /root/nltk_data...\n",
            "[nltk_data]   Unzipping taggers/averaged_perceptron_tagger.zip.\n",
            "[nltk_data] Downloading package wordnet to /root/nltk_data...\n",
            "[nltk_data] Downloading package omw-1.4 to /root/nltk_data...\n"
          ]
        },
        {
          "output_type": "execute_result",
          "data": {
            "text/plain": [
              "True"
            ]
          },
          "metadata": {},
          "execution_count": 5
        }
      ]
    },
    {
      "cell_type": "code",
      "source": [
        "lemmatizer = WordNetLemmatizer()\n",
        "tk = TweetTokenizer()"
      ],
      "metadata": {
        "id": "JZx54MBh4mAW"
      },
      "execution_count": null,
      "outputs": []
    },
    {
      "cell_type": "code",
      "source": [
        "stopwords = [\"i\", \"am\", \"me\", \"my\", \"myself\", \"we\", \"our\", \"ours\", \"ourselves\", \"you\", \"your\", \"yours\", \"yourself\",\n",
        "        \"yourselves\", \"he\", \"him\", \"his\", \"himself\", \"she\", \"her\", \"hers\", \"herself\", \"it\", \"its\", \"itself\",\n",
        "        \"they\", \"them\", \"their\", \"theirs\", \"themselves\", \"what\", \"which\", \"who\", \"whom\", \"this\", \"that\",\n",
        "        \"these\", \"those\", \"am\", \"is\", \"are\", \"was\", \"were\", \"be\", \"been\", \"being\", \"have\", \"has\", \"had\",\n",
        "        \"having\", \"do\", \"does\", \"did\", \"doing\", \"a\", \"an\", \"the\", \"and\", \"if\", \"or\", \"because\", \"as\",\n",
        "        \"until\", \"while\", \"of\", \"at\", \"by\", \"for\", \"with\", \"about\", \"between\", \"into\", \"through\",\n",
        "        \"during\", \"before\", \"after\", \"above\", \"below\", \"to\", \"from\", \"up\", \"down\", \"in\", \"out\", \"on\", \"off\",\n",
        "        \"over\", \"under\", \"again\", \"further\", \"then\", \"once\", \"here\", \"there\", \"when\", \"where\", \"why\", \"how\", \"all\",\n",
        "        \"any\", \"both\", \"each\", \"other\", \"such\", \"own\", \"same\", \"so\", \"than\", \"s\", \"t\", \"can\", \"will\", \"just\", \"now\"]\n",
        "\n",
        "punctuations = [\"+\", \",\", \".\", \"-\", \"\\\\\", \"&\", \"!\", \"?\", \":\", \";\", \"#\", \"~\", \"=\", \"/\", \"$\", \"£\", \"^\", \"(\", \")\", \"_\", \"<\", \">\"]"
      ],
      "metadata": {
        "id": "1WM769W54gUR"
      },
      "execution_count": null,
      "outputs": []
    },
    {
      "cell_type": "code",
      "source": [
        "dict_smileys = {\n",
        "        \":-)\":\"smiley\", \":-]\":\"smiley\", \":-3\":\"smiley\", \":->\":\"smiley\", \"8-)\":\"smiley\", \":-}\":\"smiley\", \":)\":\"smiley\", \":]\":\"smiley\",\n",
        "        \":3\":\"smiley\", \":>\":\"smiley\", \"8)\":\"smiley\", \":}\":\"smiley\", \":o)\":\"smiley\", \":c)\":\"smiley\", \":^)\":\"smiley\", \"=]\":\"smiley\",\n",
        "        \"=)\":\"smiley\", \":-))\":\"smiley\", \":‑D\":\"smiley\", \"8‑D\":\"smiley\",\"x‑D\":\"smiley\",\"X‑D\":\"smiley\",\":D\":\"smiley\", \"8D\":\"smiley\",\"xD\":\"smiley\",\n",
        "        \"XD\":\"smiley\", \":‑(\":\"sad\", \":‑c\":\"sad\",\":‑<\":\"sad\",\":‑[\":\"sad\",\":(\":\"sad\",\":c\":\"sad\",\":<\":\"sad\",\":[\":\"sad\", \":-||\":\"sad\", \">:[\":\"sad\",\n",
        "        \":{\":\"sad\", \":@\":\"sad\", \">:(\":\"sad\", \":'‑(\":\"sad\", \":'(\":\"sad\", \":‑P\":\"playful\", \"X‑P\":\"playful\", \"x‑p\":\"playful\", \":‑p\":\"playful\",\n",
        "        \":‑Þ\":\"playful\", \":‑þ\":\"playful\", \":‑b\":\"playful\", \":P\":\"playful\", \"XP\":\"playful\", \"xp\":\"playful\",\":p\":\"playful\",\":Þ\":\"playful\",\n",
        "        \":þ\":\"playful\", \":b\":\"playful\", \"<3\":\"love\"\n",
        "        }\n",
        "\n",
        "\n",
        "dict_contractions = {\n",
        "        \"ain't\":\"is not\", \"amn't\":\"am not\", \"aren't\":\"are not\", \"can't\":\"cannot\", \"'cause\":\"because\", \"couldn't\":\"could not\",\"couldn't've\":\"could not have\",\n",
        "        \"could've\":\"could have\",\"daren't\":\"dare not\",\"daresn't\":\"dare not\",\"dasn't\":\"dare not\",\"didn't\":\"did not\",\"doesn't\":\"does not\",\"don't\":\"do not\",\n",
        "        \"e'er\":\"ever\",\"em\":\"them\",\"everyone's\":\"everyone is\",\"finna\":\"fixing to\",\"gimme\":\"give me\",\"gonna\":\"going to\",\"gon't\":\"go not\",\"gotta\":\"got to\",\n",
        "        \"hadn't\":\"had not\",\"hasn't\":\"has not\",\"haven't\":\"have not\",\"he'd\":\"he would\",\"he'll\":\"he will\",\"he's\":\"he is\",\"he've\":\"he have\",\n",
        "        \"how'd\":\"how would\",\"how'll\":\"how will\", \"how're\":\"how are\", \"how's\":\"how is\", \"I'd\":\"I would\", \"I'll\":\"I will\",\n",
        "        \"I'm\":\"I am\",\"I'm'a\":\"I am about to\",\"I'm'o\":\"I am going to\",\"isn't\":\"is not\",\n",
        "        \"it'd\":\"it would\",\"it'll\":\"it will\",\"it's\":\"it is\",\"I've\":\"I have\",\"kinda\":\"kind of\",\"let's\":\"let us\",\"mayn't\":\"may not\",\n",
        "        \"may've\":\"may have\",\"mightn't\":\"might not\",\"might've\":\"might have\",\"mustn't\":\"must not\", \"mustn't've\":\"must not have\", \"must've\":\"must have\",\n",
        "        \"needn't\":\"need not\",\"ne'er\":\"never\", \"o'\":\"of\", \"o'er\":\"over\", \"ol'\":\"old\", \"oughtn't\":\"ought not\", \"shalln't\":\"shall not\", \"shan't\":\"shall not\",\n",
        "        \"she'd\":\"she would\",\"she'll\":\"she will\",\"she's\":\"she is\",\"shouldn't\":\"should not\",\"shouldn't've\":\"should not have\",\"should've\":\"should have\",\n",
        "        \"somebody's\":\"somebody is\", \"someone's\":\"someone is\", \"something's\":\"something is\", \"that'd\":\"that would\", \"that'll\":\"that will\", \"that're\":\"that are\",\n",
        "        \"that's\":\"that is\",\"there'd\":\"there would\",\"there'll\":\"there will\",\"there're\":\"there are\",\"there's\":\"there is\",\"these're\":\"these are\",\n",
        "        \"they'd\":\"they would\",\"they'll\":\"they will\",\"they're\":\"they are\",\"they've\":\"they have\",\"this's\":\"this is\",\"those're\":\"those are\", \"'tis\":\"it is\",\n",
        "        \"'twas\":\"it was\", \"wanna\":\"want to\", \"wasn't\":\"was not\", \"we'd\":\"we would\", \"we'd've\":\"we would have\", \"we'll\":\"we will\", \"we're\":\"we are\",\n",
        "        \"weren't\":\"were not\",\n",
        "        \"we've\":\"we have\",\"what'd\":\"what did\",\"what'll\":\"what will\",\"what're\":\"what are\",\"what's\":\"what is\",\"what've\":\"what have\",\"when's\":\"when is\",\n",
        "        \"where'd\":\"where did\",\"where're\":\"where are\",\"where's\":\"where is\",\"where've\":\"where have\",\"which's\":\"which is\",\"who'd\":\"who would\",\n",
        "        \"who'd've\":\"who would have\",\"who'll\":\"who will\",\"who're\":\"who are\",\"who's\":\"who is\",\"who've\":\"who have\",\"why'd\":\"why did\",\"why're\":\"why are\",\n",
        "        \"why's\":\"why is\",\"won't\":\"will not\",\"wouldn't\":\"would not\",\"would've\":\"would have\",\"y'all\":\"you all\",\"you'd\":\"you would\",\n",
        "        \"you'll\":\"you will\", \"you're\":\"you are\",\"you've\":\"you have\",\"Whatcha\":\"What are you\",\"luv\":\"love\",\"sux\":\"sucks\"\n",
        "        }"
      ],
      "metadata": {
        "id": "fOcrs--u4fdE"
      },
      "execution_count": null,
      "outputs": []
    },
    {
      "cell_type": "code",
      "source": [
        "def load_glove_embeddings(file_path):\n",
        "    embeddings_index = {}\n",
        "    with open(file_path, encoding='utf-8') as f:\n",
        "        for line in f:\n",
        "            values = line.split()\n",
        "            word = values[0]\n",
        "            coefs = np.asarray(values[1:], dtype='float32')\n",
        "            embeddings_index[word] = coefs\n",
        "    return embeddings_index\n",
        "\n",
        "glove_path = '/content/gdrive/MyDrive/glove.twitter.27B.200d.txt'\n",
        "embeddings_index = load_glove_embeddings(glove_path)"
      ],
      "metadata": {
        "id": "PEanAQ6l_sz7"
      },
      "execution_count": null,
      "outputs": []
    },
    {
      "cell_type": "code",
      "source": [
        "def tweet_preprocess(tweet):\n",
        "    tweet = emoji.demojize(tweet)\n",
        "    tweet = tweet.lower()   #Converting to Lowercase\n",
        "    tweet = re.sub(r'http\\S+|www\\S+|https\\S+', '', tweet)  #Removing URLs\n",
        "    tweet = re.sub(r'^RT[\\s]+', '', tweet)   #Removing re-tweet text\n",
        "    tweet = re.sub(r'\\b\\w\\b', '', tweet) #Removing Single Letters\n",
        "    tweet = re.sub(r'[\\@\\#]', '', tweet)  #Removing Hastags and targets (@)\n",
        "    tweet = re.sub(r'\\d+', '', tweet)  #Removing Numbers\n",
        "    tweet = re.sub(r'\\s+', ' ', tweet).strip()  # Removing extra spaces\n",
        "    for smiley, meaning in dict_smileys.items(): #Emoticons\n",
        "        tweet = tweet.replace(smiley, meaning)\n",
        "    for contraction, expanded in dict_contractions.items():  #Contractions\n",
        "        tweet = tweet.replace(contraction, expanded)\n",
        "    tweet = tk.tokenize(tweet)  #Tokenizing the tweet\n",
        "    pos_tags = pos_tag(tweet)\n",
        "    tweet = [word for word in tweet if word not in stopwords and word not in punctuations]  #Removing Stop words and Punctuations\n",
        "    final_tweet=[]\n",
        "    for token,tag in pos_tag(tweet):   #Lemmatizing the tweet\n",
        "        if token.isdigit():\n",
        "            continue\n",
        "\n",
        "        pos=tag[0].lower()\n",
        "        if pos not in ['a', 'r', 'n', 'v']:\n",
        "            pos='n'\n",
        "        final_tweet.append(lemmatizer.lemmatize(token,pos))\n",
        "\n",
        "    return ' '.join(final_tweet)"
      ],
      "metadata": {
        "id": "RkQUUO_K4MTS"
      },
      "execution_count": null,
      "outputs": []
    },
    {
      "cell_type": "code",
      "source": [
        "data['processed_text'] = data['Text'].apply(tweet_preprocess)"
      ],
      "metadata": {
        "id": "nsR-RpI55ToZ"
      },
      "execution_count": null,
      "outputs": []
    },
    {
      "cell_type": "code",
      "source": [
        "X = data['processed_text']\n",
        "y = data['Sentiment']"
      ],
      "metadata": {
        "id": "ktGMWzoa5YjQ"
      },
      "execution_count": null,
      "outputs": []
    },
    {
      "cell_type": "code",
      "source": [
        "X_train, X_test, y_train, y_test = train_test_split(X, y, test_size=0.2, random_state=42)"
      ],
      "metadata": {
        "id": "RrIWpVbr5aos"
      },
      "execution_count": null,
      "outputs": []
    },
    {
      "cell_type": "code",
      "source": [
        "def tweet_to_vector(tweet, embeddings_index, embedding_dim=200):\n",
        "    words = tweet.split()\n",
        "    tweet_vector = np.zeros(embedding_dim)\n",
        "    count = 0\n",
        "    for word in words:\n",
        "        if word in embeddings_index:\n",
        "            tweet_vector += embeddings_index[word]\n",
        "            count += 1\n",
        "    if count > 0:\n",
        "        tweet_vector /= count\n",
        "    return tweet_vector\n",
        "\n",
        "# Convert tweets to vectors\n",
        "X_train_vectors = np.array([tweet_to_vector(tweet, embeddings_index) for tweet in X_train])\n",
        "X_test_vectors = np.array([tweet_to_vector(tweet, embeddings_index) for tweet in X_test])"
      ],
      "metadata": {
        "id": "0wxn94ro5hbc"
      },
      "execution_count": null,
      "outputs": []
    },
    {
      "cell_type": "code",
      "source": [
        "class MultiClassLogisticRegression:\n",
        "    def __init__(self, learning_rate=0.01, num_iterations=1000):\n",
        "        self.learning_rate = learning_rate\n",
        "        self.num_iterations = num_iterations\n",
        "        self.classifiers = []\n",
        "\n",
        "    def sigmoid(self, z):\n",
        "        return 1 / (1 + np.exp(-z))\n",
        "\n",
        "    def fit(self, X, y):\n",
        "        self.classes = np.unique(y)\n",
        "\n",
        "        for c in self.classes:\n",
        "            y_binary = (y == c).astype(int)\n",
        "            theta = np.zeros(X.shape[1])\n",
        "\n",
        "            for _ in range(self.num_iterations):\n",
        "                z = np.dot(X, theta)\n",
        "                h = self.sigmoid(z)\n",
        "                gradient = np.dot(X.T, (h - y_binary)) / y_binary.size\n",
        "                theta -= self.learning_rate * gradient\n",
        "\n",
        "            self.classifiers.append(theta)\n",
        "\n",
        "    def predict_proba(self, X):\n",
        "        probas = []\n",
        "        for theta in self.classifiers:\n",
        "            z = np.dot(X, theta)\n",
        "            probas.append(self.sigmoid(z))\n",
        "        return np.column_stack(probas)\n",
        "\n",
        "    def predict(self, X):\n",
        "        probas = self.predict_proba(X)\n",
        "        return self.classes[np.argmax(probas, axis=1)]"
      ],
      "metadata": {
        "id": "mZwaLiz46abr"
      },
      "execution_count": null,
      "outputs": []
    },
    {
      "cell_type": "code",
      "source": [
        "# Initialize and train the model\n",
        "model = MultiClassLogisticRegression(learning_rate=0.01, num_iterations=1000)\n",
        "model.fit(X_train_vectors, y_train)"
      ],
      "metadata": {
        "id": "3HnNK46G6rob"
      },
      "execution_count": null,
      "outputs": []
    },
    {
      "cell_type": "code",
      "source": [
        "# Make predictions on the test set\n",
        "y_pred = model.predict(X_test_vectors)"
      ],
      "metadata": {
        "id": "pgav5SWq60kh"
      },
      "execution_count": null,
      "outputs": []
    },
    {
      "cell_type": "code",
      "source": [
        "import matplotlib.pyplot as plt\n",
        "from sklearn.metrics import accuracy_score, classification_report\n",
        "\n",
        "# Calculate accuracy\n",
        "accuracy = accuracy_score(y_test, y_pred)\n",
        "print(f\"Accuracy: {accuracy:.4f}\")\n",
        "\n",
        "# Generate and print the classification report\n",
        "report = classification_report(y_test, y_pred, output_dict=True)\n",
        "print(classification_report(y_test, y_pred))\n",
        "\n",
        "# Extract precision, recall, and f1-score for the overall weighted average\n",
        "precision = report['weighted avg']['precision']\n",
        "recall = report['weighted avg']['recall']\n",
        "f1 = report['weighted avg']['f1-score']\n",
        "\n",
        "# Store the metrics in a dictionary for plotting\n",
        "metrics = {\n",
        "    'Accuracy': accuracy,\n",
        "    'Precision': precision,\n",
        "    'Recall': recall,\n",
        "    'F1-Score': f1\n",
        "}\n",
        "\n",
        "# Plot the metrics in a bar chart\n",
        "plt.figure(figsize=(10, 6))\n",
        "plt.bar(metrics.keys(), metrics.values(), color='skyblue')\n",
        "plt.ylim(0, 1)\n",
        "plt.xlabel('Metrics')\n",
        "plt.ylabel('Value')\n",
        "plt.title('Test Set Evaluation Metrics')\n",
        "plt.grid(axis='y', linestyle='--', alpha=0.7)\n",
        "plt.show()\n"
      ],
      "metadata": {
        "colab": {
          "base_uri": "https://localhost:8080/",
          "height": 971
        },
        "id": "H6M5eNfe61jj",
        "outputId": "b6613e02-d313-4c8b-919f-aebd5c6acabc"
      },
      "execution_count": null,
      "outputs": [
        {
          "output_type": "stream",
          "name": "stdout",
          "text": [
            "Accuracy: 0.6975\n",
            "              precision    recall  f1-score   support\n",
            "\n",
            "        -1.0       0.67      0.90      0.77       357\n",
            "         0.0       0.00      0.00      0.00       156\n",
            "         1.0       0.73      0.79      0.75       396\n",
            "\n",
            "    accuracy                           0.70       909\n",
            "   macro avg       0.47      0.56      0.51       909\n",
            "weighted avg       0.58      0.70      0.63       909\n",
            "\n"
          ]
        },
        {
          "output_type": "stream",
          "name": "stderr",
          "text": [
            "/usr/local/lib/python3.10/dist-packages/sklearn/metrics/_classification.py:1344: UndefinedMetricWarning: Precision and F-score are ill-defined and being set to 0.0 in labels with no predicted samples. Use `zero_division` parameter to control this behavior.\n",
            "  _warn_prf(average, modifier, msg_start, len(result))\n",
            "/usr/local/lib/python3.10/dist-packages/sklearn/metrics/_classification.py:1344: UndefinedMetricWarning: Precision and F-score are ill-defined and being set to 0.0 in labels with no predicted samples. Use `zero_division` parameter to control this behavior.\n",
            "  _warn_prf(average, modifier, msg_start, len(result))\n",
            "/usr/local/lib/python3.10/dist-packages/sklearn/metrics/_classification.py:1344: UndefinedMetricWarning: Precision and F-score are ill-defined and being set to 0.0 in labels with no predicted samples. Use `zero_division` parameter to control this behavior.\n",
            "  _warn_prf(average, modifier, msg_start, len(result))\n",
            "/usr/local/lib/python3.10/dist-packages/sklearn/metrics/_classification.py:1344: UndefinedMetricWarning: Precision and F-score are ill-defined and being set to 0.0 in labels with no predicted samples. Use `zero_division` parameter to control this behavior.\n",
            "  _warn_prf(average, modifier, msg_start, len(result))\n",
            "/usr/local/lib/python3.10/dist-packages/sklearn/metrics/_classification.py:1344: UndefinedMetricWarning: Precision and F-score are ill-defined and being set to 0.0 in labels with no predicted samples. Use `zero_division` parameter to control this behavior.\n",
            "  _warn_prf(average, modifier, msg_start, len(result))\n",
            "/usr/local/lib/python3.10/dist-packages/sklearn/metrics/_classification.py:1344: UndefinedMetricWarning: Precision and F-score are ill-defined and being set to 0.0 in labels with no predicted samples. Use `zero_division` parameter to control this behavior.\n",
            "  _warn_prf(average, modifier, msg_start, len(result))\n"
          ]
        },
        {
          "output_type": "display_data",
          "data": {
            "text/plain": [
              "<Figure size 1000x600 with 1 Axes>"
            ],
            "image/png": "[encoded data removed]"
          },
          "metadata": {}
        }
      ]
    },
    {
      "cell_type": "code",
      "source": [],
      "metadata": {
        "id": "NULqF1vEBpG9"
      },
      "execution_count": null,
      "outputs": []
    }
  ]
}